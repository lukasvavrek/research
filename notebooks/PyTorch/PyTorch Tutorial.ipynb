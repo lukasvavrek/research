{
 "cells": [
  {
   "cell_type": "code",
   "execution_count": 1,
   "id": "06ce3620",
   "metadata": {},
   "outputs": [],
   "source": [
    "import torch"
   ]
  },
  {
   "cell_type": "code",
   "execution_count": 2,
   "id": "fa99f24b",
   "metadata": {},
   "outputs": [
    {
     "data": {
      "text/plain": [
       "True"
      ]
     },
     "execution_count": 2,
     "metadata": {},
     "output_type": "execute_result"
    }
   ],
   "source": [
    "torch.cuda.is_available()"
   ]
  },
  {
   "cell_type": "code",
   "execution_count": 3,
   "id": "5cbb14d8",
   "metadata": {},
   "outputs": [],
   "source": [
    "from torch import nn\n",
    "from torch.utils.data import DataLoader\n",
    "from torchvision import datasets\n",
    "from torchvision.transforms import ToTensor, Lambda, Compose\n",
    "import matplotlib.pyplot as plt"
   ]
  },
  {
   "cell_type": "code",
   "execution_count": 5,
   "id": "296283e6",
   "metadata": {},
   "outputs": [],
   "source": [
    "training_data = datasets.FashionMNIST(\n",
    "    root=\"data\",\n",
    "    train=True,\n",
    "    download=True,\n",
    "    transform=ToTensor()\n",
    ")\n",
    "\n",
    "test_data = datasets.FashionMNIST(\n",
    "    root=\"data\",\n",
    "    train=False, # note the difference!\n",
    "    download=True,\n",
    "    transform=ToTensor()\n",
    ")"
   ]
  },
  {
   "cell_type": "code",
   "execution_count": 6,
   "id": "44298e18",
   "metadata": {},
   "outputs": [
    {
     "name": "stdout",
     "output_type": "stream",
     "text": [
      "Shape of X [N, C, H, W]:  torch.Size([64, 1, 28, 28])\n",
      "Shape of y:  torch.Size([64]) torch.int64\n"
     ]
    }
   ],
   "source": [
    "batch_size = 64\n",
    "\n",
    "# create data loaders\n",
    "train_dataloader = DataLoader(training_data, batch_size=batch_size)\n",
    "test_dataloader = DataLoader(test_data, batch_size=batch_size)\n",
    "\n",
    "for X, y in test_dataloader:\n",
    "    print('Shape of X [N, C, H, W]: ', X.shape)\n",
    "    print('Shape of y: ', y.shape, y.dtype)\n",
    "    break"
   ]
  },
  {
   "cell_type": "code",
   "execution_count": 7,
   "id": "2f556948",
   "metadata": {},
   "outputs": [],
   "source": [
    "class NeuralNetwork(nn.Module):\n",
    "    # define layers of a neural network\n",
    "    def __init__(self):\n",
    "        super(NeuralNetwork, self).__init__()\n",
    "        \n",
    "        self.flatten = nn.Flatten()\n",
    "        self.linear_relu_stack = nn.Sequential(\n",
    "            nn.Linear(28*28, 512),\n",
    "            nn.ReLU(),\n",
    "            nn.Linear(512, 512),\n",
    "            nn.ReLU(),\n",
    "            nn.Linear(512, 10),\n",
    "            nn.ReLU()\n",
    "        )\n",
    "        \n",
    "    # specify how data will pass through the network\n",
    "    def forward(self, x):\n",
    "        x = self.flatten(x)\n",
    "        logits = self.linear_relu_stack(x)\n",
    "        return logits"
   ]
  },
  {
   "cell_type": "code",
   "execution_count": 9,
   "id": "3396d34d",
   "metadata": {},
   "outputs": [
    {
     "name": "stdout",
     "output_type": "stream",
     "text": [
      "Using cuda device\n"
     ]
    }
   ],
   "source": [
    "device = \"cuda\" if torch.cuda.is_available() else \"cpu\"\n",
    "print('Using {} device'.format(device))"
   ]
  },
  {
   "cell_type": "code",
   "execution_count": 10,
   "id": "8869ffe2",
   "metadata": {},
   "outputs": [
    {
     "name": "stdout",
     "output_type": "stream",
     "text": [
      "NeuralNetwork(\n",
      "  (flatten): Flatten(start_dim=1, end_dim=-1)\n",
      "  (linear_relu_stack): Sequential(\n",
      "    (0): Linear(in_features=784, out_features=512, bias=True)\n",
      "    (1): ReLU()\n",
      "    (2): Linear(in_features=512, out_features=512, bias=True)\n",
      "    (3): ReLU()\n",
      "    (4): Linear(in_features=512, out_features=10, bias=True)\n",
      "    (5): ReLU()\n",
      "  )\n",
      ")\n"
     ]
    }
   ],
   "source": [
    "model = NeuralNetwork().to(device)\n",
    "print(model)"
   ]
  },
  {
   "cell_type": "code",
   "execution_count": 11,
   "id": "e45debf3",
   "metadata": {},
   "outputs": [],
   "source": [
    "loss_fn = nn.CrossEntropyLoss()\n",
    "optimizer = torch.optim.SGD(model.parameters(), lr=1e-3)"
   ]
  },
  {
   "cell_type": "code",
   "execution_count": 12,
   "id": "6b7bdad2",
   "metadata": {},
   "outputs": [],
   "source": [
    "def train(dataloader, model, loss_fn, optimizer):\n",
    "    size = len(dataloader.dataset)\n",
    "    for batch, (X, y) in enumerate(dataloader):\n",
    "        X, y = X.to(device), y.to(device)\n",
    "        \n",
    "        # compute prediction error\n",
    "        pred = model(X)\n",
    "        loss = loss_fn(pred, y)\n",
    "        \n",
    "        # backpropagation\n",
    "        optimizer.zero_grad()\n",
    "        loss.backward()\n",
    "        optimizer.step()\n",
    "        \n",
    "        if batch % 100 == 0:\n",
    "            loss, current = loss.item(), batch * len(X)\n",
    "            print(f'loss: {loss:>7f} [{current:>5d}/{size:>5d}]')"
   ]
  },
  {
   "cell_type": "code",
   "execution_count": 13,
   "id": "de0d6578",
   "metadata": {},
   "outputs": [],
   "source": [
    "def test(dataloader, model, loss_fn):\n",
    "    size = len(dataloader.dataset)\n",
    "    num_batches = len(dataloader)\n",
    "    model.eval()\n",
    "    test_loss, correct = 0, 0\n",
    "    with torch.no_grad():\n",
    "        for X, y in dataloader:\n",
    "            X, y = X.to(device), y.to(device)\n",
    "            pred = model(X)\n",
    "            test_loss += loss_fn(pred, y).item()\n",
    "            correct += (pred.argmax(1) == y).type(torch.float).sum().item()\n",
    "    test_loss /= num_batches\n",
    "    correct /= size\n",
    "    \n",
    "    print(f'Test error: \\n Accuracy: {(100*correct):>0.1f}%, Avg loss: {test_loss:>8f} \\n')"
   ]
  },
  {
   "cell_type": "code",
   "execution_count": 14,
   "id": "9114c4cf",
   "metadata": {
    "scrolled": true
   },
   "outputs": [
    {
     "name": "stdout",
     "output_type": "stream",
     "text": [
      "Epoch 1\n",
      "---------------------------------\n",
      "loss: 2.298352 [    0/60000]\n",
      "loss: 2.288232 [ 6400/60000]\n",
      "loss: 2.277707 [12800/60000]\n",
      "loss: 2.278783 [19200/60000]\n",
      "loss: 2.254952 [25600/60000]\n",
      "loss: 2.250320 [32000/60000]\n",
      "loss: 2.241770 [38400/60000]\n",
      "loss: 2.224581 [44800/60000]\n",
      "loss: 2.225362 [51200/60000]\n",
      "loss: 2.232355 [57600/60000]\n",
      "Test error: \n",
      " Accuracy: 51.4%, Avg loss: 2.215144 \n",
      "\n",
      "Epoch 2\n",
      "---------------------------------\n",
      "loss: 2.203909 [    0/60000]\n",
      "loss: 2.197314 [ 6400/60000]\n",
      "loss: 2.174895 [12800/60000]\n",
      "loss: 2.206419 [19200/60000]\n",
      "loss: 2.149417 [25600/60000]\n",
      "loss: 2.142252 [32000/60000]\n",
      "loss: 2.130370 [38400/60000]\n",
      "loss: 2.094595 [44800/60000]\n",
      "loss: 2.110382 [51200/60000]\n",
      "loss: 2.125355 [57600/60000]\n",
      "Test error: \n",
      " Accuracy: 51.7%, Avg loss: 2.094574 \n",
      "\n",
      "Epoch 3\n",
      "---------------------------------\n",
      "loss: 2.070322 [    0/60000]\n",
      "loss: 2.055387 [ 6400/60000]\n",
      "loss: 2.017206 [12800/60000]\n",
      "loss: 2.091304 [19200/60000]\n",
      "loss: 1.975077 [25600/60000]\n",
      "loss: 1.973566 [32000/60000]\n",
      "loss: 1.952967 [38400/60000]\n",
      "loss: 1.896147 [44800/60000]\n",
      "loss: 1.942350 [51200/60000]\n",
      "loss: 1.958746 [57600/60000]\n",
      "Test error: \n",
      " Accuracy: 52.0%, Avg loss: 1.919504 \n",
      "\n",
      "Epoch 4\n",
      "---------------------------------\n",
      "loss: 1.882372 [    0/60000]\n",
      "loss: 1.858121 [ 6400/60000]\n",
      "loss: 1.812483 [12800/60000]\n",
      "loss: 1.934153 [19200/60000]\n",
      "loss: 1.762655 [25600/60000]\n",
      "loss: 1.777982 [32000/60000]\n",
      "loss: 1.740230 [38400/60000]\n",
      "loss: 1.687162 [44800/60000]\n",
      "loss: 1.763046 [51200/60000]\n",
      "loss: 1.783526 [57600/60000]\n",
      "Test error: \n",
      " Accuracy: 52.6%, Avg loss: 1.744257 \n",
      "\n",
      "Epoch 5\n",
      "---------------------------------\n",
      "loss: 1.694282 [    0/60000]\n",
      "loss: 1.675605 [ 6400/60000]\n",
      "loss: 1.633582 [12800/60000]\n",
      "loss: 1.786678 [19200/60000]\n",
      "loss: 1.586056 [25600/60000]\n",
      "loss: 1.624949 [32000/60000]\n",
      "loss: 1.569358 [38400/60000]\n",
      "loss: 1.536504 [44800/60000]\n",
      "loss: 1.621123 [51200/60000]\n",
      "loss: 1.656603 [57600/60000]\n",
      "Test error: \n",
      " Accuracy: 53.2%, Avg loss: 1.610711 \n",
      "\n",
      "Done!\n"
     ]
    }
   ],
   "source": [
    "epochs = 5\n",
    "for t in range(epochs):\n",
    "    print(f'Epoch {t+1}\\n---------------------------------')\n",
    "    train(train_dataloader, model, loss_fn, optimizer)\n",
    "    test(test_dataloader, model, loss_fn)\n",
    "print('Done!')"
   ]
  },
  {
   "cell_type": "code",
   "execution_count": 17,
   "id": "af0a5b3c",
   "metadata": {},
   "outputs": [
    {
     "name": "stdout",
     "output_type": "stream",
     "text": [
      "Saved PyTorch model state to model.pth\n",
      "Predicted: \"Ankle boot\", Actual: \"Ankle boot\"\n"
     ]
    }
   ],
   "source": [
    "save_model = False\n",
    "load_model = False\n",
    "\n",
    "if save_model is True:\n",
    "    torch.save(model.state_dict(), 'model.pth')\n",
    "    print('Saved PyTorch model state to model.pth')\n",
    "\n",
    "if load_model is True:\n",
    "    model = NeuralNetwork()\n",
    "    model.load_state_dict(torch.load('model.pth'))\n",
    "    \n",
    "    classes = [\n",
    "        'T-shirt/top',\n",
    "        'Trousers',\n",
    "        'Pullover',\n",
    "        'Dress',\n",
    "        'Coat',\n",
    "        'Sandal',\n",
    "        'Shirt',\n",
    "        'Sneaker',\n",
    "        'Bag',\n",
    "        'Ankle boot'\n",
    "    ]\n",
    "    \n",
    "    model.eval()\n",
    "    X, y = test_data[0][0], test_data[0][1]\n",
    "    with torch.no_grad():\n",
    "        pred = model(X)\n",
    "        predicted, actual = classes[pred[0].argmax(0)], classes[y]\n",
    "        print(f'Predicted: \"{predicted}\", Actual: \"{actual}\"')"
   ]
  }
 ],
 "metadata": {
  "kernelspec": {
   "display_name": "lv-pytorch-env",
   "language": "python",
   "name": "lv-pytorch-env"
  },
  "language_info": {
   "codemirror_mode": {
    "name": "ipython",
    "version": 3
   },
   "file_extension": ".py",
   "mimetype": "text/x-python",
   "name": "python",
   "nbconvert_exporter": "python",
   "pygments_lexer": "ipython3",
   "version": "3.9.6"
  }
 },
 "nbformat": 4,
 "nbformat_minor": 5
}
